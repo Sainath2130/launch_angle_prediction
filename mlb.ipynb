{
 "cells": [
  {
   "cell_type": "code",
   "execution_count": 6,
   "metadata": {},
   "outputs": [],
   "source": [
    "import numpy as np\n",
    "import pandas as pd"
   ]
  },
  {
   "cell_type": "code",
   "execution_count": 10,
   "metadata": {},
   "outputs": [],
   "source": [
    "data=pd.read_csv(\"2016-mlb-homeruns.csv\")"
   ]
  },
  {
   "cell_type": "code",
   "execution_count": 11,
   "metadata": {},
   "outputs": [
    {
     "data": {
      "text/html": [
       "<div>\n",
       "<style scoped>\n",
       "    .dataframe tbody tr th:only-of-type {\n",
       "        vertical-align: middle;\n",
       "    }\n",
       "\n",
       "    .dataframe tbody tr th {\n",
       "        vertical-align: top;\n",
       "    }\n",
       "\n",
       "    .dataframe thead th {\n",
       "        text-align: right;\n",
       "    }\n",
       "</style>\n",
       "<table border=\"1\" class=\"dataframe\">\n",
       "  <thead>\n",
       "    <tr style=\"text-align: right;\">\n",
       "      <th></th>\n",
       "      <th>play_id</th>\n",
       "      <th>title</th>\n",
       "      <th>ExitVelocity</th>\n",
       "      <th>HitDistance</th>\n",
       "      <th>LaunchAngle</th>\n",
       "      <th>video</th>\n",
       "    </tr>\n",
       "  </thead>\n",
       "  <tbody>\n",
       "    <tr>\n",
       "      <th>0</th>\n",
       "      <td>5b254850-9e14-48d2-8baf-c3e12ecbe68d</td>\n",
       "      <td>John Jaso homers (6) on a fly ball to center f...</td>\n",
       "      <td>102.9</td>\n",
       "      <td>412.0</td>\n",
       "      <td>25.0</td>\n",
       "      <td>https://sporty-clips.mlb.com/YjlLTlpfWGw0TUFRP...</td>\n",
       "    </tr>\n",
       "    <tr>\n",
       "      <th>1</th>\n",
       "      <td>0110e760-5d49-4c53-ad29-e74c787c038d</td>\n",
       "      <td>Evan Longoria homers (34) on a fly ball to lef...</td>\n",
       "      <td>103.1</td>\n",
       "      <td>423.0</td>\n",
       "      <td>31.0</td>\n",
       "      <td>https://sporty-clips.mlb.com/OHcxUXlfWGw0TUFRP...</td>\n",
       "    </tr>\n",
       "    <tr>\n",
       "      <th>2</th>\n",
       "      <td>3b9ecf94-e3fe-4d79-8b33-efe174dfa53e</td>\n",
       "      <td>Marwin Gonzalez homers (13) on a line drive to...</td>\n",
       "      <td>106.6</td>\n",
       "      <td>390.0</td>\n",
       "      <td>22.0</td>\n",
       "      <td>https://sporty-clips.mlb.com/Mk9vbFBfWGw0TUFRP...</td>\n",
       "    </tr>\n",
       "    <tr>\n",
       "      <th>3</th>\n",
       "      <td>bda1cb83-dca9-46b2-aaad-6c1f009cd51c</td>\n",
       "      <td>Eddie Rosario homers (10) on a fly ball to rig...</td>\n",
       "      <td>98.5</td>\n",
       "      <td>368.0</td>\n",
       "      <td>30.0</td>\n",
       "      <td>https://sporty-clips.mlb.com/ajlhWFpfWGw0TUFRP...</td>\n",
       "    </tr>\n",
       "    <tr>\n",
       "      <th>4</th>\n",
       "      <td>9f87e907-3c4f-4187-8fb0-d6784b3b1f1a</td>\n",
       "      <td>Marcus Semien homers (26) on a fly ball to lef...</td>\n",
       "      <td>106.0</td>\n",
       "      <td>435.0</td>\n",
       "      <td>32.0</td>\n",
       "      <td>https://sporty-clips.mlb.com/bGUyNEdfWGw0TUFRP...</td>\n",
       "    </tr>\n",
       "  </tbody>\n",
       "</table>\n",
       "</div>"
      ],
      "text/plain": [
       "                                play_id  \\\n",
       "0  5b254850-9e14-48d2-8baf-c3e12ecbe68d   \n",
       "1  0110e760-5d49-4c53-ad29-e74c787c038d   \n",
       "2  3b9ecf94-e3fe-4d79-8b33-efe174dfa53e   \n",
       "3  bda1cb83-dca9-46b2-aaad-6c1f009cd51c   \n",
       "4  9f87e907-3c4f-4187-8fb0-d6784b3b1f1a   \n",
       "\n",
       "                                               title  ExitVelocity  \\\n",
       "0  John Jaso homers (6) on a fly ball to center f...         102.9   \n",
       "1  Evan Longoria homers (34) on a fly ball to lef...         103.1   \n",
       "2  Marwin Gonzalez homers (13) on a line drive to...         106.6   \n",
       "3  Eddie Rosario homers (10) on a fly ball to rig...          98.5   \n",
       "4  Marcus Semien homers (26) on a fly ball to lef...         106.0   \n",
       "\n",
       "   HitDistance  LaunchAngle                                              video  \n",
       "0        412.0         25.0  https://sporty-clips.mlb.com/YjlLTlpfWGw0TUFRP...  \n",
       "1        423.0         31.0  https://sporty-clips.mlb.com/OHcxUXlfWGw0TUFRP...  \n",
       "2        390.0         22.0  https://sporty-clips.mlb.com/Mk9vbFBfWGw0TUFRP...  \n",
       "3        368.0         30.0  https://sporty-clips.mlb.com/ajlhWFpfWGw0TUFRP...  \n",
       "4        435.0         32.0  https://sporty-clips.mlb.com/bGUyNEdfWGw0TUFRP...  "
      ]
     },
     "execution_count": 11,
     "metadata": {},
     "output_type": "execute_result"
    }
   ],
   "source": [
    "data.head(5)"
   ]
  },
  {
   "cell_type": "code",
   "execution_count": 12,
   "metadata": {},
   "outputs": [
    {
     "data": {
      "text/plain": [
       "(5499, 6)"
      ]
     },
     "execution_count": 12,
     "metadata": {},
     "output_type": "execute_result"
    }
   ],
   "source": [
    "data.shape"
   ]
  },
  {
   "cell_type": "code",
   "execution_count": 13,
   "metadata": {},
   "outputs": [
    {
     "name": "stdout",
     "output_type": "stream",
     "text": [
      "<class 'pandas.core.frame.DataFrame'>\n",
      "RangeIndex: 5499 entries, 0 to 5498\n",
      "Data columns (total 6 columns):\n",
      " #   Column        Non-Null Count  Dtype  \n",
      "---  ------        --------------  -----  \n",
      " 0   play_id       5499 non-null   object \n",
      " 1   title         5497 non-null   object \n",
      " 2   ExitVelocity  5450 non-null   float64\n",
      " 3   HitDistance   5494 non-null   float64\n",
      " 4   LaunchAngle   5450 non-null   float64\n",
      " 5   video         5499 non-null   object \n",
      "dtypes: float64(3), object(3)\n",
      "memory usage: 257.9+ KB\n"
     ]
    }
   ],
   "source": [
    "data.info()"
   ]
  },
  {
   "cell_type": "code",
   "execution_count": 14,
   "metadata": {},
   "outputs": [
    {
     "data": {
      "text/html": [
       "<div>\n",
       "<style scoped>\n",
       "    .dataframe tbody tr th:only-of-type {\n",
       "        vertical-align: middle;\n",
       "    }\n",
       "\n",
       "    .dataframe tbody tr th {\n",
       "        vertical-align: top;\n",
       "    }\n",
       "\n",
       "    .dataframe thead th {\n",
       "        text-align: right;\n",
       "    }\n",
       "</style>\n",
       "<table border=\"1\" class=\"dataframe\">\n",
       "  <thead>\n",
       "    <tr style=\"text-align: right;\">\n",
       "      <th></th>\n",
       "      <th>ExitVelocity</th>\n",
       "      <th>HitDistance</th>\n",
       "      <th>LaunchAngle</th>\n",
       "    </tr>\n",
       "  </thead>\n",
       "  <tbody>\n",
       "    <tr>\n",
       "      <th>count</th>\n",
       "      <td>5450.000000</td>\n",
       "      <td>5494.000000</td>\n",
       "      <td>5450.000000</td>\n",
       "    </tr>\n",
       "    <tr>\n",
       "      <th>mean</th>\n",
       "      <td>103.340477</td>\n",
       "      <td>392.178082</td>\n",
       "      <td>28.034679</td>\n",
       "    </tr>\n",
       "    <tr>\n",
       "      <th>std</th>\n",
       "      <td>4.389941</td>\n",
       "      <td>60.665475</td>\n",
       "      <td>5.119716</td>\n",
       "    </tr>\n",
       "    <tr>\n",
       "      <th>min</th>\n",
       "      <td>87.100000</td>\n",
       "      <td>0.000000</td>\n",
       "      <td>14.000000</td>\n",
       "    </tr>\n",
       "    <tr>\n",
       "      <th>25%</th>\n",
       "      <td>100.500000</td>\n",
       "      <td>381.000000</td>\n",
       "      <td>24.000000</td>\n",
       "    </tr>\n",
       "    <tr>\n",
       "      <th>50%</th>\n",
       "      <td>103.400000</td>\n",
       "      <td>400.000000</td>\n",
       "      <td>28.000000</td>\n",
       "    </tr>\n",
       "    <tr>\n",
       "      <th>75%</th>\n",
       "      <td>106.400000</td>\n",
       "      <td>417.000000</td>\n",
       "      <td>31.000000</td>\n",
       "    </tr>\n",
       "    <tr>\n",
       "      <th>max</th>\n",
       "      <td>117.400000</td>\n",
       "      <td>504.000000</td>\n",
       "      <td>48.000000</td>\n",
       "    </tr>\n",
       "  </tbody>\n",
       "</table>\n",
       "</div>"
      ],
      "text/plain": [
       "       ExitVelocity  HitDistance  LaunchAngle\n",
       "count   5450.000000  5494.000000  5450.000000\n",
       "mean     103.340477   392.178082    28.034679\n",
       "std        4.389941    60.665475     5.119716\n",
       "min       87.100000     0.000000    14.000000\n",
       "25%      100.500000   381.000000    24.000000\n",
       "50%      103.400000   400.000000    28.000000\n",
       "75%      106.400000   417.000000    31.000000\n",
       "max      117.400000   504.000000    48.000000"
      ]
     },
     "execution_count": 14,
     "metadata": {},
     "output_type": "execute_result"
    }
   ],
   "source": [
    "data.describe()"
   ]
  },
  {
   "cell_type": "code",
   "execution_count": 15,
   "metadata": {},
   "outputs": [
    {
     "data": {
      "text/plain": [
       "['play_id', 'title', 'ExitVelocity', 'HitDistance', 'LaunchAngle', 'video']"
      ]
     },
     "execution_count": 15,
     "metadata": {},
     "output_type": "execute_result"
    }
   ],
   "source": [
    "data.columns.tolist()"
   ]
  },
  {
   "cell_type": "code",
   "execution_count": 16,
   "metadata": {},
   "outputs": [
    {
     "data": {
      "text/plain": [
       "play_id          0\n",
       "title            2\n",
       "ExitVelocity    49\n",
       "HitDistance      5\n",
       "LaunchAngle     49\n",
       "video            0\n",
       "dtype: int64"
      ]
     },
     "execution_count": 16,
     "metadata": {},
     "output_type": "execute_result"
    }
   ],
   "source": [
    "data.isnull().sum()"
   ]
  },
  {
   "cell_type": "code",
   "execution_count": 17,
   "metadata": {},
   "outputs": [],
   "source": [
    "# Replace null values with the mean of each column\n",
    "data['ExitVelocity'] = data['ExitVelocity'].fillna(data['ExitVelocity'].mean())\n",
    "\n",
    "data['HitDistance'] = data['HitDistance'].fillna(data['HitDistance'].mean())\n",
    "\n",
    "data['LaunchAngle'] = data['LaunchAngle'].fillna(data['LaunchAngle'].mean())"
   ]
  },
  {
   "cell_type": "code",
   "execution_count": 18,
   "metadata": {},
   "outputs": [],
   "source": [
    "df_cleaned = data[data['title'].notna() & (data['title'] != '')]"
   ]
  },
  {
   "cell_type": "code",
   "execution_count": 19,
   "metadata": {},
   "outputs": [
    {
     "data": {
      "text/plain": [
       "play_id         0\n",
       "title           2\n",
       "ExitVelocity    0\n",
       "HitDistance     0\n",
       "LaunchAngle     0\n",
       "video           0\n",
       "dtype: int64"
      ]
     },
     "execution_count": 19,
     "metadata": {},
     "output_type": "execute_result"
    }
   ],
   "source": [
    "data.isnull().sum()"
   ]
  },
  {
   "cell_type": "code",
   "execution_count": 21,
   "metadata": {},
   "outputs": [
    {
     "name": "stdout",
     "output_type": "stream",
     "text": [
      "2\n",
      "Empty string values in 'title' before removal:\n",
      "0\n"
     ]
    }
   ],
   "source": [
    "print(data['title'].isnull().sum())\n",
    "\n",
    "print(\"Empty string values in 'title' before removal:\")\n",
    "\n",
    "print((data['title'] == '').sum())\n",
    "\n",
    "\n",
    "# Remove rows with null values or empty strings in the 'title' column\n",
    "\n",
    "df_cleaned = df[df['title'].notna() & (df['title'] != '')]\n"
   ]
  },
  {
   "cell_type": "code",
   "execution_count": 22,
   "metadata": {},
   "outputs": [
    {
     "data": {
      "text/plain": [
       "play_id         5037\n",
       "title           5035\n",
       "ExitVelocity     262\n",
       "HitDistance      206\n",
       "LaunchAngle       35\n",
       "video           5037\n",
       "dtype: int64"
      ]
     },
     "execution_count": 22,
     "metadata": {},
     "output_type": "execute_result"
    }
   ],
   "source": [
    "data.nunique()"
   ]
  },
  {
   "cell_type": "code",
   "execution_count": 23,
   "metadata": {},
   "outputs": [],
   "source": [
    "import matplotlib.pyplot as plt\n",
    "import seaborn as sns"
   ]
  },
  {
   "cell_type": "code",
   "execution_count": 24,
   "metadata": {},
   "outputs": [
    {
     "data": {
      "image/png": "[encoded data removed]",
      "text/plain": [
       "<Figure size 800x600 with 2 Axes>"
      ]
     },
     "metadata": {},
     "output_type": "display_data"
    },
    {
     "name": "stdout",
     "output_type": "stream",
     "text": [
      "              ExitVelocity  HitDistance  LaunchAngle\n",
      "ExitVelocity      1.000000     0.296410    -0.353166\n",
      "HitDistance       0.296410     1.000000    -0.148648\n",
      "LaunchAngle      -0.353166    -0.148648     1.000000\n"
     ]
    }
   ],
   "source": [
    "selected_columns = data[['ExitVelocity','HitDistance','LaunchAngle']]\n",
    "correlation_matrix = selected_columns.corr()\n",
    "# Set the size of the plot\n",
    "\n",
    "plt.figure(figsize=(8, 6))\n",
    "\n",
    "\n",
    "# Create the heatmap\n",
    "\n",
    "sns.heatmap(correlation_matrix, annot=True, cmap='coolwarm', fmt='.2f', square=True)\n",
    "\n",
    "\n",
    "# Set the title\n",
    "\n",
    "plt.title('Heatmap of Selected Columns')\n",
    "\n",
    "\n",
    "# Show the plot\n",
    "\n",
    "plt.show()\n",
    "print(selected_columns.corr())"
   ]
  },
  {
   "cell_type": "code",
   "execution_count": 39,
   "metadata": {},
   "outputs": [],
   "source": [
    "x=data.iloc[:,[2,4]].values\n",
    "y=data.iloc[:,4].values "
   ]
  },
  {
   "cell_type": "code",
   "execution_count": 40,
   "metadata": {},
   "outputs": [
    {
     "name": "stdout",
     "output_type": "stream",
     "text": [
      "[[102.9         25.        ]\n",
      " [103.1         31.        ]\n",
      " [106.6         22.        ]\n",
      " ...\n",
      " [103.34047706  28.0346789 ]\n",
      " [103.34047706  28.0346789 ]\n",
      " [103.34047706  28.0346789 ]]\n"
     ]
    }
   ],
   "source": [
    "print(x)"
   ]
  },
  {
   "cell_type": "code",
   "execution_count": 41,
   "metadata": {},
   "outputs": [
    {
     "name": "stdout",
     "output_type": "stream",
     "text": [
      "[25.        31.        22.        ... 28.0346789 28.0346789 28.0346789]\n"
     ]
    }
   ],
   "source": [
    "print(y)"
   ]
  },
  {
   "cell_type": "code",
   "execution_count": 42,
   "metadata": {},
   "outputs": [],
   "source": [
    "from sklearn.preprocessing import StandardScaler\n",
    "sc=StandardScaler()\n",
    "x=sc.fit_transform(x)"
   ]
  },
  {
   "cell_type": "code",
   "execution_count": 43,
   "metadata": {},
   "outputs": [],
   "source": [
    "from sklearn.model_selection import train_test_split\n",
    "x_train,x_test,y_train,y_test=train_test_split(x,y,test_size=1/8,random_state=0)"
   ]
  },
  {
   "cell_type": "code",
   "execution_count": 44,
   "metadata": {},
   "outputs": [
    {
     "name": "stdout",
     "output_type": "stream",
     "text": [
      "Best n_neighbors: 1\n"
     ]
    }
   ],
   "source": [
    "from sklearn.model_selection import GridSearchCV\n",
    "\n",
    "from sklearn.neighbors import KNeighborsRegressor\n",
    "\n",
    "\n",
    "# Define the model\n",
    "\n",
    "knn_regressor = KNeighborsRegressor()\n",
    "\n",
    "\n",
    "# Define the parameter grid\n",
    "\n",
    "param_grid = {'n_neighbors': range(1, 31)}\n",
    "\n",
    "\n",
    "# Set up GridSearchCV\n",
    "\n",
    "grid_search = GridSearchCV(knn_regressor, param_grid, cv=5, scoring='neg_mean_squared_error')\n",
    "\n",
    "\n",
    "# Fit the model\n",
    "\n",
    "grid_search.fit(x_train, y_train)\n",
    "\n",
    "\n",
    "# Get the best parameter\n",
    "\n",
    "best_n_neighbors = grid_search.best_params_['n_neighbors']\n",
    "\n",
    "print(\"Best n_neighbors:\", best_n_neighbors)"
   ]
  },
  {
   "cell_type": "code",
   "execution_count": 45,
   "metadata": {},
   "outputs": [],
   "source": [
    "from sklearn.neighbors import KNeighborsRegressor\n",
    "model = KNeighborsRegressor(n_neighbors=7)  \n",
    "\n",
    "model.fit(x_train, y_train)\n",
    "\n",
    "\n",
    "# Make predictions\n",
    "\n",
    "y_pred = model.predict(x_test)"
   ]
  },
  {
   "cell_type": "code",
   "execution_count": 47,
   "metadata": {},
   "outputs": [
    {
     "name": "stdout",
     "output_type": "stream",
     "text": [
      "[45.28571429]\n"
     ]
    }
   ],
   "source": [
    "input1=[[102.9,412.0]]\n",
    "input1=sc.transform(input1)\n",
    "result=(model.predict(input1))\n",
    "print(result)"
   ]
  },
  {
   "cell_type": "code",
   "execution_count": 48,
   "metadata": {},
   "outputs": [
    {
     "name": "stdout",
     "output_type": "stream",
     "text": [
      "Mean Squared Error: 0.011394348473373428\n",
      "R^2 Score: 0.9995469221149419\n"
     ]
    }
   ],
   "source": [
    "from sklearn.metrics import mean_squared_error,r2_score\n",
    "\n",
    "\n",
    "mse = mean_squared_error(y_test, y_pred)\n",
    "\n",
    "r2 = r2_score(y_test, y_pred)\n",
    "\n",
    "\n",
    "print(\"Mean Squared Error:\", mse)\n",
    "\n",
    "print(\"R^2 Score:\", r2)"
   ]
  },
  {
   "cell_type": "code",
   "execution_count": 49,
   "metadata": {},
   "outputs": [
    {
     "name": "stdout",
     "output_type": "stream",
     "text": [
      "Model saved as knn_model.pkl\n"
     ]
    }
   ],
   "source": [
    "import pickle\n",
    "\n",
    "\n",
    "# Save the model to a file\n",
    "\n",
    "with open('knn_model.pkl', 'wb') as file:\n",
    "\n",
    "    pickle.dump(model, file)\n",
    "print(\"Model saved as knn_model.pkl\")"
   ]
  },
  {
   "cell_type": "code",
   "execution_count": null,
   "metadata": {},
   "outputs": [],
   "source": []
  }
 ],
 "metadata": {
  "kernelspec": {
   "display_name": "venv",
   "language": "python",
   "name": "python3"
  },
  "language_info": {
   "codemirror_mode": {
    "name": "ipython",
    "version": 3
   },
   "file_extension": ".py",
   "mimetype": "text/x-python",
   "name": "python",
   "nbconvert_exporter": "python",
   "pygments_lexer": "ipython3",
   "version": "3.13.0"
  }
 },
 "nbformat": 4,
 "nbformat_minor": 2
}
